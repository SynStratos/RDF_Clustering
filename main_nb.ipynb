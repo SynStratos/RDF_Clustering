{
 "cells": [
  {
   "cell_type": "code",
   "execution_count": null,
   "metadata": {
    "collapsed": true
   },
   "outputs": [],
   "source": [
    "import rdflib\n",
    "import pandas as pd\n",
    "from sklearn.ensemble import RandomForestClassifier\n",
    "from sklearn.metrics import confusion_matrix\n",
    "from sklearn.cluster import KMeans, DBSCAN\n",
    "from sklearn.decomposition import PCA\n",
    "from graph import *\n",
    "from rdf2vec import RDF2VecTransformer"
   ]
  },
  {
   "cell_type": "code",
   "execution_count": null,
   "outputs": [],
   "source": [
    "print(end='Loading data... ', flush=True)\n",
    "g = rdflib.Graph()\n",
    "g.parse('data/limit10000', type=\"nt\")\n",
    "print('OK')\n",
    "\n",
    "# Extract all database drugs' URI\n",
    "all_drugs_file = pd.read_csv('data/all_drugs.tsv', sep='\\t')\n",
    "all_drugs = [rdflib.URIRef(x) for x in all_drugs_file['drug']]\n",
    "\n",
    "# Define relevant predicates\n",
    "predicates = pd.read_csv('data/relevant_predicates.tsv', sep='\\t')\n",
    "predicates = [rdflib.URIRef(x) for x in predicates['predicate']]\n"
   ],
   "metadata": {
    "collapsed": false,
    "pycharm": {
     "name": "#%%\n"
    }
   }
  },
  {
   "cell_type": "code",
   "execution_count": null,
   "outputs": [],
   "source": [
    "# Extract graph\n",
    "kg = rdflib_to_kg(g, label_predicates=predicates)\n",
    "\n",
    "graphs = []\n",
    "for drug in all_drugs:\n",
    "    try:\n",
    "        graphs.append(extract_instance(kg, drug))\n",
    "    except Exception:\n",
    "        pass"
   ],
   "metadata": {
    "collapsed": false,
    "pycharm": {
     "name": "#%%\n"
    }
   }
  },
  {
   "cell_type": "code",
   "execution_count": null,
   "outputs": [],
   "source": [
    "# Embeddings\n",
    "transformer = RDF2VecTransformer(_type='walk', walks_per_graph=500)\n",
    "embeddings = transformer.fit_transform(graphs)\n",
    "\n",
    "kmeans = KMeans(n_clusters=7)\n",
    "kmeans.fit(embeddings)\n",
    "y_kmeans = kmeans.predict(embeddings)"
   ],
   "metadata": {
    "collapsed": false,
    "pycharm": {
     "name": "#%%\n"
    }
   }
  },
  {
   "cell_type": "code",
   "execution_count": null,
   "outputs": [],
   "source": [
    "# PCA\n",
    "pca = PCA(n_components=2)\n",
    "pca = pca.fit_transform(embeddings)\n",
    "\n",
    "principalDf = pd.DataFrame(data=pca, columns=['principal component 1', 'principal component 2'])\n",
    "\n",
    "# rappresentazione grafica\n",
    "plt.scatter(principalDf[:, 0], principalDf[:, 1], c=y_kmeans, s=50, cmap='viridis')\n",
    "\n",
    "centers = kmeans.cluster_centers_\n",
    "plt.scatter(centers[:, 0], centers[:, 1], c='black', s=200, alpha=0.5)"
   ],
   "metadata": {
    "collapsed": false,
    "pycharm": {
     "name": "#%%\n"
    }
   }
  }
 ],
 "metadata": {
  "kernelspec": {
   "display_name": "Python 3",
   "language": "python",
   "name": "python3"
  },
  "language_info": {
   "codemirror_mode": {
    "name": "ipython",
    "version": 2
   },
   "file_extension": ".py",
   "mimetype": "text/x-python",
   "name": "python",
   "nbconvert_exporter": "python",
   "pygments_lexer": "ipython2",
   "version": "2.7.6"
  },
  "pycharm": {
   "stem_cell": {
    "cell_type": "raw",
    "source": [],
    "metadata": {
     "collapsed": false
    }
   }
  }
 },
 "nbformat": 4,
 "nbformat_minor": 0
}