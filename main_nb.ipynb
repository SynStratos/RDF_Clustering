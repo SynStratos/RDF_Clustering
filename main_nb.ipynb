{
 "cells": [
  {
   "cell_type": "code",
   "execution_count": 1,
   "metadata": {
    "pycharm": {
     "is_executing": true
    }
   },
   "outputs": [],
   "source": [
    "import rdflib\n",
    "import pandas as pd\n",
    "from sklearn.ensemble import RandomForestClassifier\n",
    "from sklearn.metrics import confusion_matrix\n",
    "from sklearn.cluster import KMeans\n",
    "from sklearn.decomposition import PCA\n",
    "from sklearn.metrics import silhouette_samples, silhouette_score\n",
    "\n",
    "from mpl_toolkits.mplot3d import Axes3D\n",
    "from matplotlib import pyplot\n",
    "from rdflib.extras.external_graph_libs import rdflib_to_networkx_multidigraph\n",
    "import networkx as nx\n",
    "\n",
    "from knowledge_graph import *\n",
    "from graph import *\n",
    "from rdf2vec import RDF2VecTransformer\n",
    "\n",
    "from rdf_graph_utils import rdf_to_plot, rdf_to_text\n",
    "\n",
    "from lcs_rdf_graph import LCS"
   ]
  },
  {
   "cell_type": "code",
   "execution_count": 3,
   "metadata": {
    "pycharm": {
     "is_executing": true
    }
   },
   "outputs": [],
   "source": [
    "# URI DI TUTTE LE DRUGS\n",
    "all_drugs_file = pd.read_csv('data/all_drugs.tsv', sep='\\t')\n",
    "all_drugs = [rdflib.URIRef(x) for x in all_drugs_file['drug']]\n",
    "\n",
    "# PREDICATI DA ESCLUDERE NELL'ESTRAZIONE DEL GRAFO\n",
    "predicates = pd.read_csv('data/bad_predicates.tsv', sep='\\t')\n",
    "predicates = [rdflib.URIRef(x) for x in predicates['predicate']]\n",
    "\n",
    "# ESTRAZIONE DI UNINFORMATIVE TRIPLES E STOPPING PATTERNS DAI FILE\n",
    "preds = pd.read_csv('data/uninformative.tsv', sep='\\t')\n",
    "preds = [rdflib.URIRef(x) for x in preds['uninformative']]\n",
    "\n",
    "stop_patterns = pd.read_csv('data/stop_patterns.tsv', sep='\\t')\n",
    "stop_patterns = [x for x in stop_patterns['stopping_patterns']]"
   ]
  },
  {
   "cell_type": "code",
   "execution_count": 4,
   "metadata": {
    "pycharm": {
     "is_executing": true,
     "name": "#%%\n"
    },
    "scrolled": true
   },
   "outputs": [
    {
     "name": "stdout",
     "output_type": "stream",
     "text": [
      "Loading data... OK\n"
     ]
    }
   ],
   "source": [
    "print(end='Loading data... ', flush=True)\n",
    "g = rdflib.Graph()\n",
    "\n",
    "g.parse('data/drugbank_complete_nt.nt', format=\"nt\")\n",
    "print('OK')"
   ]
  },
  {
   "cell_type": "code",
   "execution_count": 5,
   "metadata": {
    "pycharm": {
     "is_executing": true
    }
   },
   "outputs": [],
   "source": [
    "# TRASFORMAZIONE DELL'INTERO GRAFO IN KNOWLEDGE GRAPH (contenente matrice di adiacenze, necessario per rdf2vec)\n",
    "kg = rdflib_to_kg(g, label_predicates=predicates)"
   ]
  },
  {
   "cell_type": "code",
   "execution_count": 6,
   "metadata": {
    "pycharm": {
     "is_executing": true,
     "name": "#%%\n"
    }
   },
   "outputs": [
    {
     "name": "stdout",
     "output_type": "stream",
     "text": [
      "ok:56\n"
     ]
    }
   ],
   "source": [
    "# PER OGNI DRUG VIENE ESTRATTO IL SUB-GRAPH SE PRESENTE NELLA NOSTRO KB\n",
    "i = 1\n",
    "j = 1\n",
    "\n",
    "kv = []\n",
    "drugs = []\n",
    "graphs = []\n",
    "for drug in all_drugs:\n",
    "    try:\n",
    "        g = extract_instance(kg, drug, 4)\n",
    "        graphs.append(g)\n",
    "        drugs.append(drug)\n",
    "        kv.append( {'graph': g, 'resource': drug} )\n",
    "        i += 1\n",
    "    except Exception as e:\n",
    "        j += 1\n",
    "        \n",
    "print('ok:' + str(i))\n",
    "print('not imported: ' + str(j))"
   ]
  },
  {
   "cell_type": "code",
   "execution_count": null,
   "metadata": {
    "pycharm": {
     "is_executing": true,
     "name": "#%%\n"
    }
   },
   "outputs": [],
   "source": [
    "# ESTRAZIONE DEGLI EMBEDDINGS TRAMITE RDF2VEC E CLUSTERING\n",
    "# Embeddings\n",
    "transformer = RDF2VecTransformer(wl=False, max_path_depth=4, vector_size=15, walks_per_graph=8000)\n",
    "embeddings = transformer.fit_transform(graphs, all_drugs)"
   ]
  },
  {
   "cell_type": "code",
   "execution_count": null,
   "outputs": [],
   "source": [
    "import matplotlib.pyplot as plt\n",
    "%matplotlib inline \n",
    "\n",
    "\n",
    "distortions = []\n",
    "K = range(5,100)\n",
    "for k in K:\n",
    "    kmeanModel_3 = KMeans(n_clusters=k)\n",
    "    preds = kmeanModel_3.fit_predict(embeddings)\n",
    "    distortions.append(kmeanModel_3.inertia_)\n",
    "    centers = kmeanModel_3.cluster_centers_\n",
    "\n",
    "    score = silhouette_score(embeddings, preds)\n",
    "    print(\"For n_clusters = {}, silhouette score is {})\".format(k, score))\n",
    "    \n",
    "plt.figure(figsize=(16,8))\n",
    "plt.plot(K, distortions, 'bx-')\n",
    "plt.xlabel('k')\n",
    "plt.ylabel('Distortion')\n",
    "plt.title('The Elbow Method showing the optimal k')\n",
    "plt.show()"
   ],
   "metadata": {
    "collapsed": false,
    "pycharm": {
     "name": "#%%\n"
    }
   }
  },
  {
   "cell_type": "code",
   "execution_count": null,
   "outputs": [],
   "source": [],
   "metadata": {
    "collapsed": false,
    "pycharm": {
     "name": "#%%\n"
    }
   }
  },
  {
   "cell_type": "code",
   "execution_count": null,
   "metadata": {
    "pycharm": {
     "is_executing": true
    }
   },
   "outputs": [],
   "source": [
    "# CLUSTERING K-MEANS CON 7 CLUSTER\n",
    "kmeans = KMeans(n_clusters=25)\n",
    "k = kmeans.fit(embeddings)\n",
    "y_kmeans = kmeans.predict(embeddings)"
   ]
  },
  {
   "cell_type": "code",
   "execution_count": null,
   "metadata": {
    "pycharm": {
     "is_executing": true
    }
   },
   "outputs": [],
   "source": [
    "# STAMPO PER OGNI RISORSA IL CLUSTER A CUI CORRISPONDE, IN MODO DA POTERNE PRELEVARE PER IL MOMENTO\n",
    "# DUE APPARTENENTI ALLO STESSO CLUSTER\n",
    "k = 0\n",
    "for y in y_kmeans:\n",
    "    print(str(k) + ': ' + str(y))\n",
    "    k += 1"
   ]
  },
  {
   "cell_type": "code",
   "execution_count": 7,
   "metadata": {
    "pycharm": {
     "is_executing": true
    }
   },
   "outputs": [
    {
     "name": "stdout",
     "output_type": "stream",
     "text": [
      "http://bio2rdf.org/drugbank:DB00182\n",
      "http://bio2rdf.org/drugbank:DB00191\n"
     ]
    }
   ],
   "source": [
    "# SELEZIONO I GRAFI RELATIVI A DUE DRUGS RISULTANTI NELLO STESSO CLUSTER\n",
    "drug1 = drugs[48]\n",
    "drug2 = drugs[50]\n",
    "\n",
    "graph1 = graphs[48]\n",
    "graph2 = graphs[50]\n",
    "\n",
    "print(drug1)\n",
    "print(drug2)"
   ]
  },
  {
   "cell_type": "code",
   "execution_count": null,
   "metadata": {
    "pycharm": {
     "is_executing": true
    },
    "scrolled": true
   },
   "outputs": [],
   "source": [
    "# CREAZIONE DEL GRAFO OTTENUTO DAL LCS\n",
    "rdflib_x_Tx = LCS(graph1, graph2, depth=2, stop_patterns=stop_patterns, uninformative_triples=preds)\n",
    "rdflib_x_Tx.find()"
   ]
  },
  {
   "cell_type": "code",
   "execution_count": null,
   "metadata": {
    "pycharm": {
     "is_executing": true
    },
    "scrolled": true
   },
   "outputs": [],
   "source": [
    "# RAPPRESENTAZIONE GRAFICA IN PLOT DEL GRAFO\n",
    "rdf_to_plot(rdflib_x_Tx)\n",
    "\n",
    "# SALVATAGGIO DEL GRAFO IN FORMATO 'NT'\n",
    "rdf_to_text(rdflib_x_Tx, 'data/outputs', 'nt')"
   ]
  },
  {
   "cell_type": "code",
   "execution_count": null,
   "metadata": {},
   "outputs": [],
   "source": [
    "# SALVATAGGIO DEL GRAFO IN FORMATO 'NT'\n",
    "rdf_to_text(rdflib_x_Tx, 'data/outputs', 'turtle')"
   ]
  },
  {
   "cell_type": "code",
   "execution_count": null,
   "metadata": {},
   "outputs": [],
   "source": [
    "# CHECK LENGTH  OF CLUSTERS\n",
    "el_num = [0] * 25\n",
    "for i in y_kmeans:\n",
    "    el_num[i] += 1\n",
    "\n",
    "for i in range(25):\n",
    "    print(i, el_num[i])\n",
    "    "
   ]
  },
  {
   "cell_type": "markdown",
   "metadata": {},
   "source": [
    "Sezione per la rappresentazione grafica 2D e 3D dei cluster."
   ]
  },
  {
   "cell_type": "code",
   "execution_count": null,
   "metadata": {
    "pycharm": {
     "is_executing": true,
     "name": "#%%\n"
    }
   },
   "outputs": [],
   "source": [
    "# ESTRAZIONE DELLE COMPONENTI PRINCIPALI PER POTER RAPPRESENTARE GRAFICAMENTE LA DISTINZIONE IN CLUSTER \n",
    "# 2 PC -> RAPPRESENTAZIONE 2D\n",
    "# 3 PC -> RAPPRESENTAZIONE 3D\n",
    "\n",
    "# PCA (2)\n",
    "pca = PCA(n_components=2)\n",
    "pca = pca.fit_transform(embeddings)\n",
    "\n",
    "principalDf = pd.DataFrame(data=pca, columns=['pc1', 'pc2'])"
   ]
  },
  {
   "cell_type": "code",
   "execution_count": null,
   "metadata": {
    "pycharm": {
     "is_executing": true
    }
   },
   "outputs": [],
   "source": [
    "# KMEANS SU LE 2 PC PER POTER INDIVIDUARE I PUNTI CENTRALI PER LA RAPPRESENTAZIONE GRAFICA (STEP NON NECESSARIO)\n",
    "kmeans2 = KMeans(n_clusters=7)\n",
    "kmeans2.fit(principalDf)"
   ]
  },
  {
   "cell_type": "code",
   "execution_count": null,
   "metadata": {
    "pycharm": {
     "is_executing": true,
     "name": "#%%\n"
    }
   },
   "outputs": [],
   "source": [
    "# rappresentazione grafica\n",
    "plt.scatter(principalDf['pc1'], principalDf['pc2'], c=y_kmeans, s=50, cmap='viridis')\n",
    "\n",
    "centers = np.asarray(kmeans2.cluster_centers_)\n",
    "plt.scatter(centers[:,0], centers[:,1], c='black', s=200, alpha=0.5)"
   ]
  },
  {
   "cell_type": "code",
   "execution_count": null,
   "metadata": {
    "pycharm": {
     "is_executing": true
    }
   },
   "outputs": [],
   "source": [
    "# PCA (3)\n",
    "pca = PCA(n_components=3)\n",
    "pca = pca.fit_transform(embeddings)\n",
    "\n",
    "principalDf = pd.DataFrame(data=pca, columns=['pc1', 'pc2', 'pc3'])\n",
    "\n",
    "kmeans2 = KMeans(n_clusters=7)\n",
    "kmeans2.fit(principalDf)"
   ]
  },
  {
   "cell_type": "code",
   "execution_count": null,
   "metadata": {
    "pycharm": {
     "is_executing": true,
     "name": "#%%\n"
    }
   },
   "outputs": [],
   "source": [
    "fig = pyplot.figure()\n",
    "ax = Axes3D(fig)\n",
    "ax.scatter(principalDf['pc1'], principalDf['pc2'], principalDf['pc3'], c=y_kmeans, s=50, cmap='viridis')\n",
    "\n",
    "centers = np.asarray(kmeans2.cluster_centers_)\n",
    "ax.scatter(centers[:,0], centers[:,1], centers[:,2], c='black', s=200, alpha=0.5)"
   ]
  },
  {
   "cell_type": "markdown",
   "metadata": {
    "pycharm": {
     "is_executing": true
    }
   },
   "source": [
    "Test"
   ]
  },
  {
   "cell_type": "code",
   "execution_count": null,
   "metadata": {
    "pycharm": {
     "is_executing": true
    }
   },
   "outputs": [],
   "source": [
    "for d in drugs:\n",
    "    if d == rdflib.term.URIRef(\"http://bio2rdf.org/drugbank:DB00407\"):\n",
    "        print(\"ardeparin: \" + str(drugs.index(d)))\n",
    "\n",
    "for d in drugs:\n",
    "    if d == rdflib.term.URIRef(\"http://bio2rdf.org/drugbank:DB01109\"):\n",
    "        print(\"heparin: \" + str(drugs.index(d)))\n",
    "\n",
    "for d in drugs:\n",
    "    if d == rdflib.term.URIRef(\"http://bio2rdf.org/drugbank:DB00182\"):\n",
    "        print(\"a: \" + str(drugs.index(d)))\n",
    "    if d == rdflib.term.URIRef(\"http://bio2rdf.org/drugbank:DB00191\"):\n",
    "        print(\"b: \" + str(drugs.index(d)))"
   ]
  }
 ],
 "metadata": {
  "kernelspec": {
   "display_name": "Python 3",
   "language": "python",
   "name": "python3"
  },
  "language_info": {
   "codemirror_mode": {
    "name": "ipython",
    "version": 3
   },
   "file_extension": ".py",
   "mimetype": "text/x-python",
   "name": "python",
   "nbconvert_exporter": "python",
   "pygments_lexer": "ipython3",
   "version": "3.6.9"
  },
  "pycharm": {
   "stem_cell": {
    "cell_type": "raw",
    "source": [],
    "metadata": {
     "collapsed": false
    }
   }
  }
 },
 "nbformat": 4,
 "nbformat_minor": 1
}